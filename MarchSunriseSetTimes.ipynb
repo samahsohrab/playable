{
  "cells": [
    {
      "cell_type": "code",
      "execution_count": 10,
      "metadata": {
        "id": "IeNBWu74TgD_"
      },
      "outputs": [],
      "source": [
        "import requests\n",
        "import json\n",
        "import datetime\n",
        "import pandas as pd\n",
        "import pytz\n",
        "from tabulate import tabulate\n",
        "\n",
        "class FastGenie:\n",
        "    \n",
        "    def __init__(self, location, start_date):\n",
        "        street, city, state, zipcode = location.split(',')\n",
        "        self.street = street.strip()\n",
        "        self.city = city.strip()\n",
        "        self.state = state.strip()\n",
        "        self.zipcode = zipcode.strip()\n",
        "        self.start_date = start_date\n",
        "        self.description = \"This is very simple tool to generate a time table for nerdy Baha'is during the fast.\"\n",
        "        \n",
        "    def geo_api(self):\n",
        "        GEO_API = 'https://geocoding.geo.census.gov/geocoder/geographies/address?'\n",
        "        api_out = requests.get(GEO_API, params={\n",
        "            'returntype': 'geographies',\n",
        "            'searchtype': 'address',\n",
        "            'street': self.street,\n",
        "            'city': self.city,\n",
        "            'state': self.state,\n",
        "            'zip': self.zipcode,\n",
        "            'benchmark': 'Public_AR_Current',\n",
        "            'vintage': 'Current_Current',\n",
        "            'layers': 14,\n",
        "            'format': 'json',}).json()['result']\n",
        "        \n",
        "        lat = api_out['addressMatches'][0]['coordinates']['y']\n",
        "        lng = api_out['addressMatches'][0]['coordinates']['x']\n",
        "        \n",
        "        return lat,lng\n",
        "    \n",
        "    def get_sun_schedule(self):\n",
        "        lat,lng = self.geo_api()\n",
        "        SUNRISE_API = 'https://api.sunrise-sunset.org/json?'\n",
        "        series_date = pd.date_range(self.start_date, freq='D', periods=21)\n",
        "        datelist = series_date.astype(str)\n",
        "        \n",
        "        output = list()\n",
        "        \n",
        "        # Easier to loop to collect the date, too\n",
        "        for date in datelist:\n",
        "            api_out = requests.get(SUNRISE_API, params={'lat': lat,\n",
        "                                                        'lng': lng,\n",
        "                                                        'date': date,\n",
        "                                                        'formatted': 0}).json()['results']\n",
        "            api_out['date'] = date\n",
        "            api_out['day_of_week'] = datetime.datetime.strptime(date, '%Y-%m-%d').strftime('%A')\n",
        "            output.append(api_out)\n",
        "        return output\n",
        "\n",
        "    def get_time_table(self):\n",
        "        good_data = self.get_sun_schedule()\n",
        "        df = pd.DataFrame(good_data)\n",
        "        df = df[['day_of_week','date','sunrise','sunset']]\n",
        "        \n",
        "        # Set timezone\n",
        "        tz = pytz.timezone('US/Pacific')\n",
        "        df['sunrise'] = pd.to_datetime(df['sunrise']).dt.tz_convert('US/Pacific')\n",
        "        df['sunset'] = pd.to_datetime(df['sunset']).dt.tz_convert('US/Pacific')\n",
        "        \n",
        "        # Beautify\n",
        "        df['sunrise'] = df['sunrise'].apply(lambda x: x.strftime('%I:%M:%S %p'))\n",
        "        df['sunset'] = df['sunset'].apply(lambda x: x.strftime('%I:%M:%S %p'))\n",
        "        \n",
        "        return df"
      ]
    },
    {
      "cell_type": "markdown",
      "metadata": {
        "id": "n5bBpgDuTgEA"
      },
      "source": [
        "## Enter your address and start date, and run this baby!"
      ]
    },
    {
      "cell_type": "code",
      "execution_count": 11,
      "metadata": {
        "id": "jFGwq7oCTgEB",
        "outputId": "c7c632a7-c943-46f9-db2c-2a35eb697c03",
        "colab": {
          "base_uri": "https://localhost:8080/"
        }
      },
      "outputs": [
        {
          "output_type": "stream",
          "name": "stdout",
          "text": [
            "+---------------+------------+-------------+-------------+\n",
            "| day_of_week   | date       | sunrise     | sunset      |\n",
            "|---------------+------------+-------------+-------------|\n",
            "| Thursday      | 2023-03-02 | 06:35:53 AM | 06:03:50 PM |\n",
            "| Friday        | 2023-03-03 | 06:34:29 AM | 06:04:48 PM |\n",
            "| Saturday      | 2023-03-04 | 06:33:06 AM | 06:05:46 PM |\n",
            "| Sunday        | 2023-03-05 | 06:31:41 AM | 06:06:44 PM |\n",
            "| Monday        | 2023-03-06 | 06:30:16 AM | 06:07:41 PM |\n",
            "| Tuesday       | 2023-03-07 | 06:28:50 AM | 06:08:38 PM |\n",
            "| Wednesday     | 2023-03-08 | 06:27:24 AM | 06:09:35 PM |\n",
            "| Thursday      | 2023-03-09 | 06:25:58 AM | 06:10:32 PM |\n",
            "| Friday        | 2023-03-10 | 06:24:31 AM | 06:11:28 PM |\n",
            "| Saturday      | 2023-03-11 | 06:23:03 AM | 06:12:24 PM |\n",
            "| Sunday        | 2023-03-12 | 07:21:35 AM | 07:13:20 PM |\n",
            "| Monday        | 2023-03-13 | 07:20:07 AM | 07:14:16 PM |\n",
            "| Tuesday       | 2023-03-14 | 07:18:39 AM | 07:15:12 PM |\n",
            "| Wednesday     | 2023-03-15 | 07:17:10 AM | 07:16:07 PM |\n",
            "| Thursday      | 2023-03-16 | 07:15:41 AM | 07:17:02 PM |\n",
            "| Friday        | 2023-03-17 | 07:14:11 AM | 07:17:57 PM |\n",
            "| Saturday      | 2023-03-18 | 07:12:42 AM | 07:18:52 PM |\n",
            "| Sunday        | 2023-03-19 | 07:11:12 AM | 07:19:46 PM |\n",
            "| Monday        | 2023-03-20 | 07:09:43 AM | 07:20:41 PM |\n",
            "| Tuesday       | 2023-03-21 | 07:08:13 AM | 07:21:35 PM |\n",
            "| Wednesday     | 2023-03-22 | 07:06:43 AM | 07:22:29 PM |\n",
            "+---------------+------------+-------------+-------------+\n"
          ]
        }
      ],
      "source": [
        "YOUR_ADDRESS = '268 Coronet Dr,Los Gatos,CA,95032'\n",
        "FIRST_DAY_OF_FAST = '2023-03-02'\n",
        "FastPrinter = FastGenie(YOUR_ADDRESS,FIRST_DAY_OF_FAST)\n",
        "print(tabulate(FastPrinter.get_time_table(), headers='keys', tablefmt='psql', showindex=False))\n",
        "# FastPrinter.get_time_table()"
      ]
    },
    {
      "cell_type": "code",
      "execution_count": null,
      "metadata": {
        "id": "klrYTTYQTgEB"
      },
      "outputs": [],
      "source": []
    }
  ],
  "metadata": {
    "hide_input": false,
    "kernelspec": {
      "display_name": "Python 3",
      "language": "python",
      "name": "python3"
    },
    "language_info": {
      "codemirror_mode": {
        "name": "ipython",
        "version": 3
      },
      "file_extension": ".py",
      "mimetype": "text/x-python",
      "name": "python",
      "nbconvert_exporter": "python",
      "pygments_lexer": "ipython3",
      "version": "3.7.10"
    },
    "nteract": {
      "version": "nteract-on-jupyter@0.35.4"
    },
    "colab": {
      "provenance": []
    }
  },
  "nbformat": 4,
  "nbformat_minor": 0
}