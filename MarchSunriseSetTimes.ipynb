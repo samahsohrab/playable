{
 "cells": [
  {
   "cell_type": "code",
   "execution_count": 1,
   "metadata": {},
   "outputs": [],
   "source": [
    "import requests\n",
    "import json\n",
    "import pandas as pd"
   ]
  },
  {
   "cell_type": "code",
   "execution_count": null,
   "metadata": {},
   "outputs": [],
   "source": [
    "###############\n",
    "# Enter your address/location, then run all the cells\n",
    "###############\n",
    "LOCATION = '1451 Eden Ave San Jose CA 95117'"
   ]
  },
  {
   "cell_type": "code",
   "execution_count": 2,
   "metadata": {},
   "outputs": [],
   "source": [
    "GEO_API = 'https://api.opencagedata.com/geocode/v1/json?'\n",
    "results = requests.get(GEO_API, params={'q': LOCATION,\n",
    "                              'key': '9885520318ca426793c0d92a965d5b1b',\n",
    "                              'language': 'en',\n",
    "                              'pretty': 1}).json()['results']\n",
    "lat = results[0]['geometry']['lat']\n",
    "lng = results[0]['geometry']['lng']"
   ]
  },
  {
   "cell_type": "code",
   "execution_count": 3,
   "metadata": {},
   "outputs": [],
   "source": [
    "DATE = '2019-03-01'\n",
    "di = pd.date_range(DATE ,freq='D', periods=21)\n",
    "datelist = di.astype(str)\n",
    "\n",
    "SUNRISE_API = 'https://api.sunrise-sunset.org/json?'"
   ]
  },
  {
   "cell_type": "code",
   "execution_count": 4,
   "metadata": {},
   "outputs": [],
   "source": [
    "a = pd.DataFrame([requests.get(SUNRISE_API, params={'lat': lat,\n",
    "                                            'lng': lng, \n",
    "                                            'date': date, \n",
    "                                            'formatted': 0}).json()['results'] \n",
    "                  for date in datelist])"
   ]
  },
  {
   "cell_type": "code",
   "execution_count": 5,
   "metadata": {},
   "outputs": [],
   "source": [
    "df = a[['sunrise','sunset']]"
   ]
  },
  {
   "cell_type": "code",
   "execution_count": 6,
   "metadata": {},
   "outputs": [
    {
     "name": "stderr",
     "output_type": "stream",
     "text": [
      "/apps/python3/lib/python3.6/site-packages/ipykernel_launcher.py:1: SettingWithCopyWarning: \n",
      "A value is trying to be set on a copy of a slice from a DataFrame.\n",
      "Try using .loc[row_indexer,col_indexer] = value instead\n",
      "\n",
      "See the caveats in the documentation: http://pandas.pydata.org/pandas-docs/stable/indexing.html#indexing-view-versus-copy\n",
      "  \"\"\"Entry point for launching an IPython kernel.\n",
      "/apps/python3/lib/python3.6/site-packages/ipykernel_launcher.py:2: SettingWithCopyWarning: \n",
      "A value is trying to be set on a copy of a slice from a DataFrame.\n",
      "Try using .loc[row_indexer,col_indexer] = value instead\n",
      "\n",
      "See the caveats in the documentation: http://pandas.pydata.org/pandas-docs/stable/indexing.html#indexing-view-versus-copy\n",
      "  \n",
      "/apps/python3/lib/python3.6/site-packages/ipykernel_launcher.py:3: SettingWithCopyWarning: \n",
      "A value is trying to be set on a copy of a slice from a DataFrame.\n",
      "Try using .loc[row_indexer,col_indexer] = value instead\n",
      "\n",
      "See the caveats in the documentation: http://pandas.pydata.org/pandas-docs/stable/indexing.html#indexing-view-versus-copy\n",
      "  This is separate from the ipykernel package so we can avoid doing imports until\n",
      "/apps/python3/lib/python3.6/site-packages/ipykernel_launcher.py:4: SettingWithCopyWarning: \n",
      "A value is trying to be set on a copy of a slice from a DataFrame.\n",
      "Try using .loc[row_indexer,col_indexer] = value instead\n",
      "\n",
      "See the caveats in the documentation: http://pandas.pydata.org/pandas-docs/stable/indexing.html#indexing-view-versus-copy\n",
      "  after removing the cwd from sys.path.\n"
     ]
    }
   ],
   "source": [
    "df['sunrise'] = pd.to_datetime(df['sunrise'])\n",
    "df['sunset'] = pd.to_datetime(df['sunset'])\n",
    "df['sunrise'] = df['sunrise'].dt.tz_convert('US/Pacific')\n",
    "df['sunset'] = df['sunset'].dt.tz_convert('US/Pacific')"
   ]
  },
  {
   "cell_type": "code",
   "execution_count": 7,
   "metadata": {},
   "outputs": [
    {
     "data": {
      "text/html": [
       "<div>\n",
       "<style scoped>\n",
       "    .dataframe tbody tr th:only-of-type {\n",
       "        vertical-align: middle;\n",
       "    }\n",
       "\n",
       "    .dataframe tbody tr th {\n",
       "        vertical-align: top;\n",
       "    }\n",
       "\n",
       "    .dataframe thead th {\n",
       "        text-align: right;\n",
       "    }\n",
       "</style>\n",
       "<table border=\"1\" class=\"dataframe\">\n",
       "  <thead>\n",
       "    <tr style=\"text-align: right;\">\n",
       "      <th></th>\n",
       "      <th>sunrise</th>\n",
       "      <th>sunset</th>\n",
       "    </tr>\n",
       "  </thead>\n",
       "  <tbody>\n",
       "    <tr>\n",
       "      <th>0</th>\n",
       "      <td>2019-03-01 06:37:59-08:00</td>\n",
       "      <td>2019-03-01 18:02:04-08:00</td>\n",
       "    </tr>\n",
       "    <tr>\n",
       "      <th>1</th>\n",
       "      <td>2019-03-02 06:36:36-08:00</td>\n",
       "      <td>2019-03-02 18:03:02-08:00</td>\n",
       "    </tr>\n",
       "    <tr>\n",
       "      <th>2</th>\n",
       "      <td>2019-03-03 06:35:12-08:00</td>\n",
       "      <td>2019-03-03 18:04:01-08:00</td>\n",
       "    </tr>\n",
       "    <tr>\n",
       "      <th>3</th>\n",
       "      <td>2019-03-04 06:33:48-08:00</td>\n",
       "      <td>2019-03-04 18:04:59-08:00</td>\n",
       "    </tr>\n",
       "    <tr>\n",
       "      <th>4</th>\n",
       "      <td>2019-03-05 06:32:23-08:00</td>\n",
       "      <td>2019-03-05 18:05:57-08:00</td>\n",
       "    </tr>\n",
       "    <tr>\n",
       "      <th>5</th>\n",
       "      <td>2019-03-06 06:30:57-08:00</td>\n",
       "      <td>2019-03-06 18:06:54-08:00</td>\n",
       "    </tr>\n",
       "    <tr>\n",
       "      <th>6</th>\n",
       "      <td>2019-03-07 06:29:31-08:00</td>\n",
       "      <td>2019-03-07 18:07:51-08:00</td>\n",
       "    </tr>\n",
       "    <tr>\n",
       "      <th>7</th>\n",
       "      <td>2019-03-08 06:28:04-08:00</td>\n",
       "      <td>2019-03-08 18:08:48-08:00</td>\n",
       "    </tr>\n",
       "    <tr>\n",
       "      <th>8</th>\n",
       "      <td>2019-03-09 06:26:37-08:00</td>\n",
       "      <td>2019-03-09 18:09:45-08:00</td>\n",
       "    </tr>\n",
       "    <tr>\n",
       "      <th>9</th>\n",
       "      <td>2019-03-10 07:25:10-07:00</td>\n",
       "      <td>2019-03-10 19:10:42-07:00</td>\n",
       "    </tr>\n",
       "    <tr>\n",
       "      <th>10</th>\n",
       "      <td>2019-03-11 07:23:42-07:00</td>\n",
       "      <td>2019-03-11 19:11:38-07:00</td>\n",
       "    </tr>\n",
       "    <tr>\n",
       "      <th>11</th>\n",
       "      <td>2019-03-12 07:22:14-07:00</td>\n",
       "      <td>2019-03-12 19:12:34-07:00</td>\n",
       "    </tr>\n",
       "    <tr>\n",
       "      <th>12</th>\n",
       "      <td>2019-03-13 07:20:45-07:00</td>\n",
       "      <td>2019-03-13 19:13:29-07:00</td>\n",
       "    </tr>\n",
       "    <tr>\n",
       "      <th>13</th>\n",
       "      <td>2019-03-14 07:19:17-07:00</td>\n",
       "      <td>2019-03-14 19:14:25-07:00</td>\n",
       "    </tr>\n",
       "    <tr>\n",
       "      <th>14</th>\n",
       "      <td>2019-03-15 07:17:47-07:00</td>\n",
       "      <td>2019-03-15 19:15:20-07:00</td>\n",
       "    </tr>\n",
       "    <tr>\n",
       "      <th>15</th>\n",
       "      <td>2019-03-16 07:16:18-07:00</td>\n",
       "      <td>2019-03-16 19:16:16-07:00</td>\n",
       "    </tr>\n",
       "    <tr>\n",
       "      <th>16</th>\n",
       "      <td>2019-03-17 07:14:49-07:00</td>\n",
       "      <td>2019-03-17 19:17:11-07:00</td>\n",
       "    </tr>\n",
       "    <tr>\n",
       "      <th>17</th>\n",
       "      <td>2019-03-18 07:13:19-07:00</td>\n",
       "      <td>2019-03-18 19:18:05-07:00</td>\n",
       "    </tr>\n",
       "    <tr>\n",
       "      <th>18</th>\n",
       "      <td>2019-03-19 07:11:49-07:00</td>\n",
       "      <td>2019-03-19 19:19:00-07:00</td>\n",
       "    </tr>\n",
       "    <tr>\n",
       "      <th>19</th>\n",
       "      <td>2019-03-20 07:10:19-07:00</td>\n",
       "      <td>2019-03-20 19:19:54-07:00</td>\n",
       "    </tr>\n",
       "    <tr>\n",
       "      <th>20</th>\n",
       "      <td>2019-03-21 07:08:49-07:00</td>\n",
       "      <td>2019-03-21 19:20:49-07:00</td>\n",
       "    </tr>\n",
       "  </tbody>\n",
       "</table>\n",
       "</div>"
      ],
      "text/plain": [
       "                     sunrise                    sunset\n",
       "0  2019-03-01 06:37:59-08:00 2019-03-01 18:02:04-08:00\n",
       "1  2019-03-02 06:36:36-08:00 2019-03-02 18:03:02-08:00\n",
       "2  2019-03-03 06:35:12-08:00 2019-03-03 18:04:01-08:00\n",
       "3  2019-03-04 06:33:48-08:00 2019-03-04 18:04:59-08:00\n",
       "4  2019-03-05 06:32:23-08:00 2019-03-05 18:05:57-08:00\n",
       "5  2019-03-06 06:30:57-08:00 2019-03-06 18:06:54-08:00\n",
       "6  2019-03-07 06:29:31-08:00 2019-03-07 18:07:51-08:00\n",
       "7  2019-03-08 06:28:04-08:00 2019-03-08 18:08:48-08:00\n",
       "8  2019-03-09 06:26:37-08:00 2019-03-09 18:09:45-08:00\n",
       "9  2019-03-10 07:25:10-07:00 2019-03-10 19:10:42-07:00\n",
       "10 2019-03-11 07:23:42-07:00 2019-03-11 19:11:38-07:00\n",
       "11 2019-03-12 07:22:14-07:00 2019-03-12 19:12:34-07:00\n",
       "12 2019-03-13 07:20:45-07:00 2019-03-13 19:13:29-07:00\n",
       "13 2019-03-14 07:19:17-07:00 2019-03-14 19:14:25-07:00\n",
       "14 2019-03-15 07:17:47-07:00 2019-03-15 19:15:20-07:00\n",
       "15 2019-03-16 07:16:18-07:00 2019-03-16 19:16:16-07:00\n",
       "16 2019-03-17 07:14:49-07:00 2019-03-17 19:17:11-07:00\n",
       "17 2019-03-18 07:13:19-07:00 2019-03-18 19:18:05-07:00\n",
       "18 2019-03-19 07:11:49-07:00 2019-03-19 19:19:00-07:00\n",
       "19 2019-03-20 07:10:19-07:00 2019-03-20 19:19:54-07:00\n",
       "20 2019-03-21 07:08:49-07:00 2019-03-21 19:20:49-07:00"
      ]
     },
     "execution_count": 7,
     "metadata": {},
     "output_type": "execute_result"
    }
   ],
   "source": [
    "df"
   ]
  }
 ],
 "metadata": {
  "hide_input": false,
  "kernelspec": {
   "display_name": "Python 3",
   "language": "python",
   "name": "python3"
  },
  "language_info": {
   "codemirror_mode": {
    "name": "ipython",
    "version": 3
   },
   "file_extension": ".py",
   "mimetype": "text/x-python",
   "name": "python",
   "nbconvert_exporter": "python",
   "pygments_lexer": "ipython3",
   "version": "3.6.5"
  },
  "nteract": {
   "version": "nteract-on-jupyter@0.35.4"
  }
 },
 "nbformat": 4,
 "nbformat_minor": 2
}
